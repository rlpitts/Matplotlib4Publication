{
 "cells": [
  {
   "cell_type": "markdown",
   "id": "6eac3e9f",
   "metadata": {
    "slideshow": {
     "slide_type": "slide"
    },
    "tags": []
   },
   "source": [
    "# Matplotlib for Publication\n",
    "\n",
    "### When visualizing your research data, you may ask yourself...\n",
    "- What is the best plot format to communicate the results of my research?\n",
    "- How can I combine or overlay related data without sacrificing readability?\n",
    "- How can I make my figures more accessible to readers with colorblindness, dyslexia, or other common impairments?\n",
    "- What might be lost if my figure is printed (e.g., in greyscale or resized to fit on A4 paper)?\n",
    "\n",
    "Plotting is at least as much an art as a science. With this workshop I hope to not only enrich your Matplotlib skillset, but also advise on good practices for making your data visuals more accessible, informative, and professional.\n",
    "\n",
    "Many of these tips, though informed by experience, are subjective and open to disagreement. If what I advise is supported by independent research, I try to explain the findings.\n",
    "\n",
    "Let's get started!"
   ]
  },
  {
   "cell_type": "code",
   "execution_count": 2,
   "id": "068ce255-4172-4180-a8f3-d93b6031d880",
   "metadata": {
    "slideshow": {
     "slide_type": "fragment"
    },
    "tags": []
   },
   "outputs": [],
   "source": [
    "import matplotlib.pyplot as plt\n",
    "import numpy as np\n",
    "import pandas as pd\n",
    "\n",
    "#Note to self, might need tensorflow for image to numpy array imports\n",
    "# --> see https://www.geeksforgeeks.org/how-to-convert-images-to-numpy-array/"
   ]
  },
  {
   "cell_type": "markdown",
   "id": "cf26383c-20c2-4a92-a3f0-8fd31e6cd6c8",
   "metadata": {},
   "source": []
  }
 ],
 "metadata": {
  "kernelspec": {
   "display_name": "Python [conda env:tflow]",
   "language": "python",
   "name": "conda-env-tflow-py"
  },
  "language_info": {
   "codemirror_mode": {
    "name": "ipython",
    "version": 3
   },
   "file_extension": ".py",
   "mimetype": "text/x-python",
   "name": "python",
   "nbconvert_exporter": "python",
   "pygments_lexer": "ipython3",
   "version": "3.8.15"
  },
  "toc-autonumbering": false,
  "toc-showtags": false
 },
 "nbformat": 4,
 "nbformat_minor": 5
}
